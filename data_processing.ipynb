{
 "cells": [
  {
   "cell_type": "code",
   "execution_count": 2,
   "metadata": {},
   "outputs": [],
   "source": [
    "import numpy as np\n",
    "import os    # Traverse folders\n",
    "import nibabel as nib  # nii Format 1 This bag will be used in general\n",
    "import imageio   # Convert to an image"
   ]
  },
  {
   "cell_type": "code",
   "execution_count": 7,
   "metadata": {},
   "outputs": [],
   "source": [
    "def nii_to_image(path, imgfile):\n",
    "    filenames = [f for f in os.listdir(path) if f.endswith(\".nii\")]  # Read nii Folder\n",
    "\n",
    "    for f in filenames:\n",
    "        # Start reading nii Documents\n",
    "        img_path = os.path.join(path, f)\n",
    "        img = nib.load(img_path)    # Read nii\n",
    "        img_fdata = img.get_fdata()\n",
    "        fname = f.replace('.nii', '')   # Remove nii Suffix name of\n",
    "        img_f_path = os.path.join(imgfile, fname)\n",
    "        # Create nii The folder of the corresponding image\n",
    "        if not os.path.exists(img_f_path):\n",
    "            os.mkdir(img_f_path)    # New Folder\n",
    "\n",
    "        # Start converting to an image\n",
    "        (x, y, z) = img.shape\n",
    "        for i in range(z):  # z Is a sequence of images\n",
    "            # You can choose which direction of slice\n",
    "            silce = img_fdata[i, :, :]\n",
    "            imageio.imwrite(os.path.join(img_f_path, '{}.png'.format(i)), silce) # Save an image"
   ]
  },
  {
   "cell_type": "code",
   "execution_count": 8,
   "metadata": {},
   "outputs": [],
   "source": [
    "path_tr = os.path.join(\"data\", \"Task06_Lung\", \"imagesTr\")\n",
    "path_ts = os.path.join(\"data\", \"Task06_Lung\", \"imagesTs\")\n",
    "path_labels_tr = os.path.join(\"data\", \"Task06_Lung\", \"labelsTr\")\n",
    "imgfile_tr = os.path.join(\"data\", \"image_conversion\", \"imagesTr\")\n",
    "imgfile_ts = os.path.join(\"data\", \"image_conversion\", \"imagesTs\")\n",
    "imgfile_labels_tr = os.path.join(\"data\", \"image_conversion\", \"labelsTr\")"
   ]
  },
  {
   "cell_type": "code",
   "execution_count": 6,
   "metadata": {},
   "outputs": [
    {
     "name": "stdout",
     "output_type": "stream",
     "text": [
      "['lung_001.nii', 'lung_003.nii', 'lung_004.nii', 'lung_005.nii', 'lung_006.nii', 'lung_009.nii', 'lung_010.nii', 'lung_014.nii', 'lung_015.nii', 'lung_016.nii', 'lung_018.nii', 'lung_020.nii', 'lung_022.nii', 'lung_023.nii', 'lung_025.nii', 'lung_026.nii', 'lung_027.nii', 'lung_028.nii', 'lung_029.nii', 'lung_031.nii', 'lung_033.nii', 'lung_034.nii', 'lung_036.nii', 'lung_037.nii', 'lung_038.nii', 'lung_041.nii', 'lung_042.nii', 'lung_043.nii', 'lung_044.nii', 'lung_045.nii', 'lung_046.nii', 'lung_047.nii', 'lung_048.nii', 'lung_049.nii', 'lung_051.nii', 'lung_053.nii', 'lung_054.nii', 'lung_055.nii', 'lung_057.nii', 'lung_058.nii', 'lung_059.nii', 'lung_061.nii', 'lung_062.nii', 'lung_064.nii', 'lung_065.nii', 'lung_066.nii', 'lung_069.nii', 'lung_070.nii', 'lung_071.nii', 'lung_073.nii', 'lung_074.nii', 'lung_075.nii', 'lung_078.nii', 'lung_079.nii', 'lung_080.nii', 'lung_081.nii', 'lung_083.nii', 'lung_084.nii', 'lung_086.nii', 'lung_092.nii', 'lung_093.nii', 'lung_095.nii', 'lung_096.nii']\n"
     ]
    }
   ],
   "source": [
    "# nii_to_image(path_labels_tr, imgfile)\n",
    "# nii_to_image(path_labels_tr, imgfile)\n",
    "nii_to_image(path_labels_tr, imgfile_tr)"
   ]
  }
 ],
 "metadata": {
  "interpreter": {
   "hash": "e5e9c1be65789c2315ef2743c45ac3c6e1df971a01a26533a6781ef7a8b2d7cb"
  },
  "kernelspec": {
   "display_name": "Python 3.9.7 ('mie424')",
   "language": "python",
   "name": "python3"
  },
  "language_info": {
   "codemirror_mode": {
    "name": "ipython",
    "version": 3
   },
   "file_extension": ".py",
   "mimetype": "text/x-python",
   "name": "python",
   "nbconvert_exporter": "python",
   "pygments_lexer": "ipython3",
   "version": "3.9.7"
  },
  "orig_nbformat": 4
 },
 "nbformat": 4,
 "nbformat_minor": 2
}
