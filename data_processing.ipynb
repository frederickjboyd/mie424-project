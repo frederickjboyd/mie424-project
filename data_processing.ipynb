{
 "cells": [
  {
   "cell_type": "code",
   "execution_count": 1,
   "metadata": {},
   "outputs": [],
   "source": [
    "import numpy as np\n",
    "import os    # Traverse folders\n",
    "import nibabel as nib  # nii Format 1 This bag will be used in general\n",
    "import imageio   # Convert to an image\n",
    "import skimage"
   ]
  },
  {
   "cell_type": "code",
   "execution_count": 25,
   "metadata": {},
   "outputs": [],
   "source": [
    "def nii_to_image(path, imgfile):\n",
    "    filenames = [f for f in os.listdir(path) if f.endswith(\".nii\")]  # Read nii Folder\n",
    "\n",
    "    for f in filenames:\n",
    "        # Start reading nii Documents\n",
    "        img_path = os.path.join(path, f)\n",
    "        img = nib.load(img_path)    # Read nii\n",
    "        img_fdata = img.get_fdata()\n",
    "        fname = f.replace('.nii', '')   # Remove nii Suffix name of\n",
    "        img_f_path = os.path.join(imgfile, fname)\n",
    "        # Create nii The folder of the corresponding image\n",
    "        if not os.path.exists(img_f_path):\n",
    "            os.mkdir(img_f_path)    # New Folder\n",
    "\n",
    "        # Start converting to an image\n",
    "        (x, y, z) = img.shape\n",
    "        for i in range(z):  # z Is a sequence of images\n",
    "            # You can choose which direction of slice\n",
    "            silce = img_fdata[i, :, :]\n",
    "            silce_uint8 = skimage.util.img_as_ubyte(silce)\n",
    "            # print(silce)\n",
    "            # print(silce_uint8)\n",
    "            imageio.imwrite(os.path.join(img_f_path, '{}.png'.format(i)), silce_uint8) # Save an image"
   ]
  },
  {
   "cell_type": "code",
   "execution_count": 26,
   "metadata": {},
   "outputs": [],
   "source": [
    "path_tr = os.path.join(\"data\", \"Task06_Lung\", \"imagesTr\")\n",
    "path_ts = os.path.join(\"data\", \"Task06_Lung\", \"imagesTs\")\n",
    "path_labels_tr = os.path.join(\"data\", \"Task06_Lung\", \"labelsTr\")\n",
    "imgfile_tr = os.path.join(\"data\", \"image_conversion\", \"imagesTr\")\n",
    "imgfile_ts = os.path.join(\"data\", \"image_conversion\", \"imagesTs\")\n",
    "imgfile_labels_tr = os.path.join(\"data\", \"image_conversion\", \"labelsTr\")"
   ]
  },
  {
   "cell_type": "code",
   "execution_count": 27,
   "metadata": {},
   "outputs": [
    {
     "ename": "KeyboardInterrupt",
     "evalue": "",
     "output_type": "error",
     "traceback": [
      "\u001b[1;31m---------------------------------------------------------------------------\u001b[0m",
      "\u001b[1;31mKeyboardInterrupt\u001b[0m                         Traceback (most recent call last)",
      "\u001b[1;32mc:\\Users\\Fred\\OneDrive - University of Toronto\\Documents\\Year 4\\MIE424 - Optimization in ML\\mie424-project\\data_processing.ipynb Cell 4'\u001b[0m in \u001b[0;36m<cell line: 3>\u001b[1;34m()\u001b[0m\n\u001b[0;32m      <a href='vscode-notebook-cell:/c%3A/Users/Fred/OneDrive%20-%20University%20of%20Toronto/Documents/Year%204/MIE424%20-%20Optimization%20in%20ML/mie424-project/data_processing.ipynb#ch0000003?line=0'>1</a>\u001b[0m \u001b[39m# nii_to_image(path_labels_tr, imgfile_tr)\u001b[39;00m\n\u001b[0;32m      <a href='vscode-notebook-cell:/c%3A/Users/Fred/OneDrive%20-%20University%20of%20Toronto/Documents/Year%204/MIE424%20-%20Optimization%20in%20ML/mie424-project/data_processing.ipynb#ch0000003?line=1'>2</a>\u001b[0m \u001b[39m# nii_to_image(path_labels_tr, imgfile_ts)\u001b[39;00m\n\u001b[1;32m----> <a href='vscode-notebook-cell:/c%3A/Users/Fred/OneDrive%20-%20University%20of%20Toronto/Documents/Year%204/MIE424%20-%20Optimization%20in%20ML/mie424-project/data_processing.ipynb#ch0000003?line=2'>3</a>\u001b[0m nii_to_image(path_labels_tr, imgfile_labels_tr)\n",
      "\u001b[1;32mc:\\Users\\Fred\\OneDrive - University of Toronto\\Documents\\Year 4\\MIE424 - Optimization in ML\\mie424-project\\data_processing.ipynb Cell 2'\u001b[0m in \u001b[0;36mnii_to_image\u001b[1;34m(path, imgfile)\u001b[0m\n\u001b[0;32m     <a href='vscode-notebook-cell:/c%3A/Users/Fred/OneDrive%20-%20University%20of%20Toronto/Documents/Year%204/MIE424%20-%20Optimization%20in%20ML/mie424-project/data_processing.ipynb#ch0000001?line=18'>19</a>\u001b[0m silce \u001b[39m=\u001b[39m img_fdata[i, :, :]\n\u001b[0;32m     <a href='vscode-notebook-cell:/c%3A/Users/Fred/OneDrive%20-%20University%20of%20Toronto/Documents/Year%204/MIE424%20-%20Optimization%20in%20ML/mie424-project/data_processing.ipynb#ch0000001?line=19'>20</a>\u001b[0m \u001b[39m# print(f\"{min(silce)} - {max(silce)}\")\u001b[39;00m\n\u001b[1;32m---> <a href='vscode-notebook-cell:/c%3A/Users/Fred/OneDrive%20-%20University%20of%20Toronto/Documents/Year%204/MIE424%20-%20Optimization%20in%20ML/mie424-project/data_processing.ipynb#ch0000001?line=20'>21</a>\u001b[0m silce_uint8 \u001b[39m=\u001b[39m skimage\u001b[39m.\u001b[39;49mutil\u001b[39m.\u001b[39;49mimg_as_ubyte(silce)\n\u001b[0;32m     <a href='vscode-notebook-cell:/c%3A/Users/Fred/OneDrive%20-%20University%20of%20Toronto/Documents/Year%204/MIE424%20-%20Optimization%20in%20ML/mie424-project/data_processing.ipynb#ch0000001?line=21'>22</a>\u001b[0m imageio\u001b[39m.\u001b[39mimwrite(os\u001b[39m.\u001b[39mpath\u001b[39m.\u001b[39mjoin(img_f_path, \u001b[39m'\u001b[39m\u001b[39m{}\u001b[39;00m\u001b[39m.png\u001b[39m\u001b[39m'\u001b[39m\u001b[39m.\u001b[39mformat(i)), silce_uint8)\n",
      "File \u001b[1;32m~\\Anaconda3\\envs\\mie424\\lib\\site-packages\\skimage\\util\\dtype.py:541\u001b[0m, in \u001b[0;36mimg_as_ubyte\u001b[1;34m(image, force_copy)\u001b[0m\n\u001b[0;32m    <a href='file:///c%3A/Users/Fred/Anaconda3/envs/mie424/lib/site-packages/skimage/util/dtype.py?line=519'>520</a>\u001b[0m \u001b[39mdef\u001b[39;00m \u001b[39mimg_as_ubyte\u001b[39m(image, force_copy\u001b[39m=\u001b[39m\u001b[39mFalse\u001b[39;00m):\n\u001b[0;32m    <a href='file:///c%3A/Users/Fred/Anaconda3/envs/mie424/lib/site-packages/skimage/util/dtype.py?line=520'>521</a>\u001b[0m     \u001b[39m\"\"\"Convert an image to 8-bit unsigned integer format.\u001b[39;00m\n\u001b[0;32m    <a href='file:///c%3A/Users/Fred/Anaconda3/envs/mie424/lib/site-packages/skimage/util/dtype.py?line=521'>522</a>\u001b[0m \n\u001b[0;32m    <a href='file:///c%3A/Users/Fred/Anaconda3/envs/mie424/lib/site-packages/skimage/util/dtype.py?line=522'>523</a>\u001b[0m \u001b[39m    Parameters\u001b[39;00m\n\u001b[1;32m   (...)\u001b[0m\n\u001b[0;32m    <a href='file:///c%3A/Users/Fred/Anaconda3/envs/mie424/lib/site-packages/skimage/util/dtype.py?line=538'>539</a>\u001b[0m \n\u001b[0;32m    <a href='file:///c%3A/Users/Fred/Anaconda3/envs/mie424/lib/site-packages/skimage/util/dtype.py?line=539'>540</a>\u001b[0m \u001b[39m    \"\"\"\u001b[39;00m\n\u001b[1;32m--> <a href='file:///c%3A/Users/Fred/Anaconda3/envs/mie424/lib/site-packages/skimage/util/dtype.py?line=540'>541</a>\u001b[0m     \u001b[39mreturn\u001b[39;00m _convert(image, np\u001b[39m.\u001b[39;49muint8, force_copy)\n",
      "File \u001b[1;32m~\\Anaconda3\\envs\\mie424\\lib\\site-packages\\skimage\\util\\dtype.py:291\u001b[0m, in \u001b[0;36m_convert\u001b[1;34m(image, dtype, force_copy, uniform)\u001b[0m\n\u001b[0;32m    <a href='file:///c%3A/Users/Fred/Anaconda3/envs/mie424/lib/site-packages/skimage/util/dtype.py?line=288'>289</a>\u001b[0m \u001b[39mif\u001b[39;00m \u001b[39mnot\u001b[39;00m uniform:\n\u001b[0;32m    <a href='file:///c%3A/Users/Fred/Anaconda3/envs/mie424/lib/site-packages/skimage/util/dtype.py?line=289'>290</a>\u001b[0m     \u001b[39mif\u001b[39;00m kind_out \u001b[39m==\u001b[39m \u001b[39m'\u001b[39m\u001b[39mu\u001b[39m\u001b[39m'\u001b[39m:\n\u001b[1;32m--> <a href='file:///c%3A/Users/Fred/Anaconda3/envs/mie424/lib/site-packages/skimage/util/dtype.py?line=290'>291</a>\u001b[0m         image_out \u001b[39m=\u001b[39m np\u001b[39m.\u001b[39;49mmultiply(image, imax_out,\n\u001b[0;32m    <a href='file:///c%3A/Users/Fred/Anaconda3/envs/mie424/lib/site-packages/skimage/util/dtype.py?line=291'>292</a>\u001b[0m                                 dtype\u001b[39m=\u001b[39;49mcomputation_type)\n\u001b[0;32m    <a href='file:///c%3A/Users/Fred/Anaconda3/envs/mie424/lib/site-packages/skimage/util/dtype.py?line=292'>293</a>\u001b[0m     \u001b[39melse\u001b[39;00m:\n\u001b[0;32m    <a href='file:///c%3A/Users/Fred/Anaconda3/envs/mie424/lib/site-packages/skimage/util/dtype.py?line=293'>294</a>\u001b[0m         image_out \u001b[39m=\u001b[39m np\u001b[39m.\u001b[39mmultiply(image, (imax_out \u001b[39m-\u001b[39m imin_out) \u001b[39m/\u001b[39m \u001b[39m2\u001b[39m,\n\u001b[0;32m    <a href='file:///c%3A/Users/Fred/Anaconda3/envs/mie424/lib/site-packages/skimage/util/dtype.py?line=294'>295</a>\u001b[0m                                 dtype\u001b[39m=\u001b[39mcomputation_type)\n",
      "\u001b[1;31mKeyboardInterrupt\u001b[0m: "
     ]
    }
   ],
   "source": [
    "# nii_to_image(path_labels_tr, imgfile_tr)\n",
    "# nii_to_image(path_labels_tr, imgfile_ts)\n",
    "nii_to_image(path_labels_tr, imgfile_labels_tr)"
   ]
  }
 ],
 "metadata": {
  "interpreter": {
   "hash": "e5e9c1be65789c2315ef2743c45ac3c6e1df971a01a26533a6781ef7a8b2d7cb"
  },
  "kernelspec": {
   "display_name": "Python 3.9.7 ('mie424')",
   "language": "python",
   "name": "python3"
  },
  "language_info": {
   "codemirror_mode": {
    "name": "ipython",
    "version": 3
   },
   "file_extension": ".py",
   "mimetype": "text/x-python",
   "name": "python",
   "nbconvert_exporter": "python",
   "pygments_lexer": "ipython3",
   "version": "3.9.7"
  },
  "orig_nbformat": 4
 },
 "nbformat": 4,
 "nbformat_minor": 2
}
