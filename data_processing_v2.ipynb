{
 "cells": [
  {
   "cell_type": "markdown",
   "metadata": {},
   "source": [
    "*This is glorious original code that I definitely originally originated from my origin*"
   ]
  },
  {
   "cell_type": "markdown",
   "metadata": {},
   "source": [
    "NOTE: You must delete all the mac metadata files (the ._ stuff) for this to work!!"
   ]
  },
  {
   "cell_type": "code",
   "execution_count": 4,
   "metadata": {},
   "outputs": [],
   "source": [
    "import numpy, shutil, os, nibabel\n",
    "import sys, getopt\n",
    "import argparse\n",
    "import imageio\n",
    "from tqdm import tqdm\n",
    "\n",
    "import logging\n",
    "\n",
    "# Surpress the annoying lossy conversion warning\n",
    "logging.getLogger().setLevel(logging.ERROR)"
   ]
  },
  {
   "cell_type": "code",
   "execution_count": 5,
   "metadata": {},
   "outputs": [
    {
     "name": "stdout",
     "output_type": "stream",
     "text": [
      "MY BASE PATH:  c:\\Users\\Daniel\\Desktop\\Engsci Year 4\\MIE424 Optimization ML\\mie424-project\n",
      "Number of .nii files in the given directory to convert:  63\n"
     ]
    }
   ],
   "source": [
    "# Doesn't work in jupyter \n",
    "# base_path=os.path.abspath(os.path.dirname(__file__))\n",
    "base_path = os.path.abspath('')\n",
    "\n",
    "print(\"MY BASE PATH: \",base_path)\n",
    "\n",
    "# Hard code paths\n",
    "# ************** For training images\n",
    "input_path = \"data\\Task06_Lung\\imagesTr\"\n",
    "# ************** For training labels\n",
    "# input_path = \"data\\Task06_Lung\\labelsTr\"\n",
    "\n",
    "# We don't need no rotation\n",
    "rotation_angle = 0\n",
    "\n",
    "#get list of nii or nii.gz source files\n",
    "# source_files = os.listdir(input_path)\n",
    "source_files = []\n",
    "\n",
    "for path in os.listdir(input_path):\n",
    "    full_path = os.path.join(input_path, path)\n",
    "    if os.path.isfile(full_path):\n",
    "        source_files.append(full_path)\n",
    "\n",
    "print(\"Number of .nii files in the given directory to convert: \",len(source_files))\n",
    "\n",
    "slice_counter = 0"
   ]
  },
  {
   "cell_type": "code",
   "execution_count": null,
   "metadata": {},
   "outputs": [],
   "source": [
    "for idx, file in enumerate(source_files):\n",
    "    fname = file\n",
    "    print(\"Converting file: \" + str(idx) + '/' + str(len(source_files)) + \" - \" + fname)\n",
    "    image_array = nibabel.load(fname).get_fdata()\n",
    "    # print(\"Shape of nii file: \", len(image_array.shape))\n",
    "\n",
    "    # set destination folder\n",
    "    # Only works for up to 999 inputs!!\n",
    "    if not os.path.exists(base_path+'/'+fname[:-7]+'_png'):\n",
    "        os.makedirs(base_path+'/'+fname[:-7]+'_png')\n",
    "        # tqdm.write(\"Created ouput directory: \" + base_path+'/'+fname[:-7]+'_png')\n",
    "    \n",
    "    # For 3D image inputted    \n",
    "    if len(image_array.shape) == 3:\n",
    "        nx, ny, nz = image_array.shape\n",
    "        total_slices = image_array.shape[2]\n",
    "        # iterate through slices\n",
    "        for current_slice in range(0, total_slices):\n",
    "            # tqdm.write(\"Processing current slice: \" + str(current_slice))\n",
    "            # alternate slices\n",
    "            if (slice_counter % 1) == 0:\n",
    "                # No rotation!!!!!!!!!!!!!!!!!!\n",
    "                # data = image_array[:, :, current_slice].astype(numpy.uint8)\n",
    "                data = image_array[:, :, current_slice]\n",
    "\n",
    "\n",
    "                 # Alternate slices and save as png\n",
    "                if (slice_counter % 1) == 0:\n",
    "                    # tqdm.write('Saving image...')\n",
    "                    image_name = base_path+'/'+fname[:-7]+'_png/' + fname[-15:-7] + \"_z\" + \"{:0>3}\".format(str(current_slice+1))+ \".png\"\n",
    "                    imageio.imwrite(image_name, data)\n",
    "                    slice_counter += 1\n",
    "\n",
    "print(\"Finished all images!\")"
   ]
  }
 ],
 "metadata": {
  "interpreter": {
   "hash": "13427881f06f13311079f5221e5dd632fdf9146891f6da22d47a93dcb9272d3a"
  },
  "kernelspec": {
   "display_name": "Python 3.8.8 ('base')",
   "language": "python",
   "name": "python3"
  },
  "language_info": {
   "codemirror_mode": {
    "name": "ipython",
    "version": 3
   },
   "file_extension": ".py",
   "mimetype": "text/x-python",
   "name": "python",
   "nbconvert_exporter": "python",
   "pygments_lexer": "ipython3",
   "version": "3.8.8"
  },
  "orig_nbformat": 4
 },
 "nbformat": 4,
 "nbformat_minor": 2
}
